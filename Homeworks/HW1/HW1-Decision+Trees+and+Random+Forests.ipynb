{
 "cells": [
  {
   "cell_type": "markdown",
   "metadata": {},
   "source": [
    "Total points for this HW: 100.\n",
    "\n",
    "Please note: Copying and pasting other people's work is absolutely prohibited.  Any such cases will be reported to CUSP's education team and severely punished. Discussion is encouraged, and feel free to exchange ideas with your classmates, but please write your own code and do your own work."
   ]
  },
  {
   "cell_type": "markdown",
   "metadata": {
    "collapsed": true
   },
   "source": [
    "### Question 1: Accuracy and interpretability (10 pts)\n",
    "\n",
    "a) Describe a real-world prediction problem using urban data for which _interpretability_ of your models and results is essential, and for which it might be preferable to use decision trees rather than random forests.  Argue why this is the case. (3 pts)"
   ]
  },
  {
   "cell_type": "markdown",
   "metadata": {},
   "source": [
    "**Answer**: A model based urban planning policy is where interpretability is critical. Because this is an exercise that involves **convincing multiple stakeholders to buy-in**. Being able to explain the reasons, which might be based on a predictive model output, is essential. In this case, simple, but highly interpretable model, such as a single decision tree, is preferred. "
   ]
  },
  {
   "cell_type": "markdown",
   "metadata": {},
   "source": [
    "b) Describe a real-world prediction problem using urban data for which _accuracy_ is paramount and interpretability may be less important, and for which it might be preferable to use random forests rather than decision trees.  Argue why this is the case. (3 pts)"
   ]
  },
  {
   "cell_type": "markdown",
   "metadata": {},
   "source": [
    "**Answer**: A predictive model based Stop-and-Frisk solution, using demographic and crime history data, will be a great example of where accuracy is essential. **Productivity is crucial in large scale operations**, hence having high accuracy can allow police to save time by avoiding wasting time on the wrong suspects. \n",
    "\n",
    "In this case, a random forest with solid accuracy performance will be preferrable."
   ]
  },
  {
   "cell_type": "markdown",
   "metadata": {},
   "source": [
    "c) Let's imagine that you want to try to get the best of both worlds (accuracy _and_ interpretability).  So you decide to start by learning a random forest classifier.  Describe at least one way of getting some interpretability out of the model by post-processing.  You could either pick a method from the literature (e.g., Domingos's work on combining multiple models or some method of computing variable importance), or come up with your own approach (doesn't have to be ground-breaking, but feel free to be creative!) (4 pts)"
   ]
  },
  {
   "cell_type": "markdown",
   "metadata": {},
   "source": [
    "**Answer**: I will try to use the out-of-box feature importance output from Random Forest. Although it is not as straightforward as looking at the tree split from a decision tree, it provides a good sense of the power of the features on average. "
   ]
  },
  {
   "cell_type": "markdown",
   "metadata": {},
   "source": [
    "###  Question 2: Build a decision tree for classification, step by step, following the lecture notes. Note that the dataset has been slightly modified, so you will get a different tree than the one shown in the lecture notes.  (30 points)"
   ]
  },
  {
   "cell_type": "code",
   "execution_count": 120,
   "metadata": {},
   "outputs": [],
   "source": [
    "import pandas as pd\n",
    "import numpy as np"
   ]
  },
  {
   "cell_type": "code",
   "execution_count": 121,
   "metadata": {},
   "outputs": [
    {
     "data": {
      "text/html": [
       "<div>\n",
       "<style scoped>\n",
       "    .dataframe tbody tr th:only-of-type {\n",
       "        vertical-align: middle;\n",
       "    }\n",
       "\n",
       "    .dataframe tbody tr th {\n",
       "        vertical-align: top;\n",
       "    }\n",
       "\n",
       "    .dataframe thead th {\n",
       "        text-align: right;\n",
       "    }\n",
       "</style>\n",
       "<table border=\"1\" class=\"dataframe\">\n",
       "  <thead>\n",
       "    <tr style=\"text-align: right;\">\n",
       "      <th></th>\n",
       "      <th>MPG</th>\n",
       "      <th>cylinders</th>\n",
       "      <th>HP</th>\n",
       "      <th>weight</th>\n",
       "    </tr>\n",
       "  </thead>\n",
       "  <tbody>\n",
       "    <tr>\n",
       "      <th>0</th>\n",
       "      <td>good</td>\n",
       "      <td>4</td>\n",
       "      <td>75</td>\n",
       "      <td>light</td>\n",
       "    </tr>\n",
       "    <tr>\n",
       "      <th>1</th>\n",
       "      <td>bad</td>\n",
       "      <td>6</td>\n",
       "      <td>90</td>\n",
       "      <td>medium</td>\n",
       "    </tr>\n",
       "    <tr>\n",
       "      <th>2</th>\n",
       "      <td>bad</td>\n",
       "      <td>4</td>\n",
       "      <td>110</td>\n",
       "      <td>medium</td>\n",
       "    </tr>\n",
       "    <tr>\n",
       "      <th>3</th>\n",
       "      <td>bad</td>\n",
       "      <td>8</td>\n",
       "      <td>175</td>\n",
       "      <td>weighty</td>\n",
       "    </tr>\n",
       "    <tr>\n",
       "      <th>4</th>\n",
       "      <td>bad</td>\n",
       "      <td>6</td>\n",
       "      <td>95</td>\n",
       "      <td>medium</td>\n",
       "    </tr>\n",
       "    <tr>\n",
       "      <th>5</th>\n",
       "      <td>bad</td>\n",
       "      <td>4</td>\n",
       "      <td>94</td>\n",
       "      <td>light</td>\n",
       "    </tr>\n",
       "    <tr>\n",
       "      <th>6</th>\n",
       "      <td>bad</td>\n",
       "      <td>4</td>\n",
       "      <td>95</td>\n",
       "      <td>light</td>\n",
       "    </tr>\n",
       "    <tr>\n",
       "      <th>7</th>\n",
       "      <td>bad</td>\n",
       "      <td>8</td>\n",
       "      <td>139</td>\n",
       "      <td>weighty</td>\n",
       "    </tr>\n",
       "    <tr>\n",
       "      <th>8</th>\n",
       "      <td>bad</td>\n",
       "      <td>8</td>\n",
       "      <td>190</td>\n",
       "      <td>weighty</td>\n",
       "    </tr>\n",
       "    <tr>\n",
       "      <th>9</th>\n",
       "      <td>bad</td>\n",
       "      <td>8</td>\n",
       "      <td>145</td>\n",
       "      <td>weighty</td>\n",
       "    </tr>\n",
       "    <tr>\n",
       "      <th>10</th>\n",
       "      <td>bad</td>\n",
       "      <td>6</td>\n",
       "      <td>100</td>\n",
       "      <td>medium</td>\n",
       "    </tr>\n",
       "    <tr>\n",
       "      <th>11</th>\n",
       "      <td>good</td>\n",
       "      <td>4</td>\n",
       "      <td>92</td>\n",
       "      <td>medium</td>\n",
       "    </tr>\n",
       "    <tr>\n",
       "      <th>12</th>\n",
       "      <td>bad</td>\n",
       "      <td>6</td>\n",
       "      <td>100</td>\n",
       "      <td>weighty</td>\n",
       "    </tr>\n",
       "    <tr>\n",
       "      <th>13</th>\n",
       "      <td>bad</td>\n",
       "      <td>8</td>\n",
       "      <td>170</td>\n",
       "      <td>weighty</td>\n",
       "    </tr>\n",
       "    <tr>\n",
       "      <th>14</th>\n",
       "      <td>good</td>\n",
       "      <td>4</td>\n",
       "      <td>89</td>\n",
       "      <td>medium</td>\n",
       "    </tr>\n",
       "    <tr>\n",
       "      <th>15</th>\n",
       "      <td>good</td>\n",
       "      <td>4</td>\n",
       "      <td>65</td>\n",
       "      <td>light</td>\n",
       "    </tr>\n",
       "    <tr>\n",
       "      <th>16</th>\n",
       "      <td>bad</td>\n",
       "      <td>6</td>\n",
       "      <td>85</td>\n",
       "      <td>medium</td>\n",
       "    </tr>\n",
       "    <tr>\n",
       "      <th>17</th>\n",
       "      <td>good</td>\n",
       "      <td>4</td>\n",
       "      <td>81</td>\n",
       "      <td>light</td>\n",
       "    </tr>\n",
       "    <tr>\n",
       "      <th>18</th>\n",
       "      <td>bad</td>\n",
       "      <td>6</td>\n",
       "      <td>95</td>\n",
       "      <td>medium</td>\n",
       "    </tr>\n",
       "    <tr>\n",
       "      <th>19</th>\n",
       "      <td>bad</td>\n",
       "      <td>4</td>\n",
       "      <td>93</td>\n",
       "      <td>light</td>\n",
       "    </tr>\n",
       "  </tbody>\n",
       "</table>\n",
       "</div>"
      ],
      "text/plain": [
       "     MPG  cylinders   HP   weight\n",
       "0   good          4   75    light\n",
       "1    bad          6   90   medium\n",
       "2    bad          4  110   medium\n",
       "3    bad          8  175  weighty\n",
       "4    bad          6   95   medium\n",
       "5    bad          4   94    light\n",
       "6    bad          4   95    light\n",
       "7    bad          8  139  weighty\n",
       "8    bad          8  190  weighty\n",
       "9    bad          8  145  weighty\n",
       "10   bad          6  100   medium\n",
       "11  good          4   92   medium\n",
       "12   bad          6  100  weighty\n",
       "13   bad          8  170  weighty\n",
       "14  good          4   89   medium\n",
       "15  good          4   65    light\n",
       "16   bad          6   85   medium\n",
       "17  good          4   81    light\n",
       "18   bad          6   95   medium\n",
       "19   bad          4   93    light"
      ]
     },
     "execution_count": 121,
     "metadata": {},
     "output_type": "execute_result"
    }
   ],
   "source": [
    "# StringIO library is python version dependent\n",
    "try:\n",
    "    # python 3\n",
    "    from io import StringIO\n",
    "except: \n",
    "    # python 2\n",
    "    from StringIO import StringIO\n",
    "\n",
    "thefile = StringIO('MPG,cylinders,HP,weight\\ngood,4,75,light\\nbad,6,90,medium\\nbad,4,110,medium\\nbad,8,175,weighty\\nbad,6,95,medium\\nbad,4,94,light\\nbad,4,95,light\\nbad,8,139,weighty\\nbad,8,190,weighty\\nbad,8,145,weighty\\nbad,6,100,medium\\ngood,4,92,medium\\nbad,6,100,weighty\\nbad,8,170,weighty\\ngood,4,89,medium\\ngood,4,65,light\\nbad,6,85,medium\\ngood,4,81,light\\nbad,6,95,medium\\nbad,4,93,light')\n",
    "df = pd.read_csv(thefile)\n",
    "df"
   ]
  },
  {
   "cell_type": "markdown",
   "metadata": {},
   "source": [
    "### Please use numpy and pandas to do the computation for parts a) through f).  Do not use an existing decision tree implementation like sklearn for this question."
   ]
  },
  {
   "cell_type": "markdown",
   "metadata": {},
   "source": [
    "a) Start with the entire dataset and find the most common MPG value. (2 pts)"
   ]
  },
  {
   "cell_type": "code",
   "execution_count": 122,
   "metadata": {},
   "outputs": [
    {
     "data": {
      "text/plain": [
       "MPG            object\n",
       "cylinders    category\n",
       "HP              int64\n",
       "weight       category\n",
       "dtype: object"
      ]
     },
     "execution_count": 122,
     "metadata": {},
     "output_type": "execute_result"
    }
   ],
   "source": [
    "# Convert Column Type\n",
    "df['cylinders'] = df['cylinders'].astype('category')\n",
    "df['weight'] = df['weight'].astype('category')\n",
    "df.dtypes"
   ]
  },
  {
   "cell_type": "code",
   "execution_count": 123,
   "metadata": {},
   "outputs": [
    {
     "name": "stdout",
     "output_type": "stream",
     "text": [
      "the most common MPG value is 'bad'; count is 15\n"
     ]
    }
   ],
   "source": [
    "def findMPG(target):\n",
    "    \n",
    "    label, count = np.unique(target, return_counts=True)\n",
    "    print(\"the most common MPG value is '{}'; count is {}\".format(label[np.argmax(count)], count.max()))\n",
    "    \n",
    "    return\n",
    "\n",
    "findMPG(df['MPG'])"
   ]
  },
  {
   "cell_type": "code",
   "execution_count": 124,
   "metadata": {},
   "outputs": [],
   "source": [
    "def InformationGain(goodY,badY,goodN,badN):\n",
    "    def F(X,Y):\n",
    "        val1 = X*np.log2(1.*(X+Y)/X) if X>0 else 0\n",
    "        val2 = Y*np.log2(1.*(X+Y)/Y) if Y>0 else 0\n",
    "        return val1+val2\n",
    "    return (F(goodY+goodN,badY+badN)-F(goodY,badY)-F(goodN,badN)) / (goodY+goodN+badY+badN)"
   ]
  },
  {
   "cell_type": "markdown",
   "metadata": {},
   "source": [
    "b) Enumerate all the possible binary questions you could ask for each discrete-valued variable.  For each such split, compute the numbers of \"good\" and \"bad\" MPG vehicles in each of the two child nodes, and compute the information gain using the provided function above. (5 pts)"
   ]
  },
  {
   "cell_type": "code",
   "execution_count": 125,
   "metadata": {},
   "outputs": [
    {
     "name": "stdout",
     "output_type": "stream",
     "text": [
      "---\n",
      "Splitting on cylinders = 4\n",
      "# of Good in Y: 5\n",
      "# of Bad in Y: 4\n",
      "# of Good in N: 0\n",
      "# of Bad in N: 11\n",
      "Info Gain: 0.3652938975319328\n",
      "---\n",
      "Splitting on cylinders = 6\n",
      "# of Good in Y: 0\n",
      "# of Bad in Y: 6\n",
      "# of Good in N: 5\n",
      "# of Bad in N: 9\n",
      "Info Gain: 0.15307795338969116\n",
      "---\n",
      "Splitting on cylinders = 8\n",
      "# of Good in Y: 0\n",
      "# of Bad in Y: 5\n",
      "# of Good in N: 5\n",
      "# of Bad in N: 10\n",
      "Info Gain: 0.1225562489182657\n",
      "---\n",
      "Splitting on weight = light\n",
      "# of Good in Y: 3\n",
      "# of Bad in Y: 3\n",
      "# of Good in N: 2\n",
      "# of Bad in N: 12\n",
      "Info Gain: 0.09710717945150363\n",
      "---\n",
      "Splitting on weight = medium\n",
      "# of Good in Y: 2\n",
      "# of Bad in Y: 6\n",
      "# of Good in N: 3\n",
      "# of Bad in N: 9\n",
      "Info Gain: 0.0\n",
      "---\n",
      "Splitting on weight = weighty\n",
      "# of Good in Y: 0\n",
      "# of Bad in Y: 6\n",
      "# of Good in N: 5\n",
      "# of Bad in N: 9\n",
      "Info Gain: 0.15307795338969116\n"
     ]
    }
   ],
   "source": [
    "def CategoricalRules(df):\n",
    "    \n",
    "    # Find Categorical Columns (exclude MPG)\n",
    "    cols = list(df.iloc[:, 1:len(df.columns)].select_dtypes(include = ['category', 'object']))\n",
    "    \n",
    "    for col in cols: \n",
    "        \n",
    "        # Find Unique Values\n",
    "        unique_val = np.unique(df[col])     \n",
    "        \n",
    "        # Split Data by Values\n",
    "        \n",
    "        for rule in unique_val:\n",
    "            \n",
    "            # Seperate full data based on the split condition\n",
    "            Y = df[df[col] == rule].iloc[:, 0]\n",
    "            N = df[df[col] != rule].iloc[:, 0]\n",
    "            \n",
    "            # Calculate the number of Good / Bad in each split\n",
    "            goodY = np.count_nonzero(Y == 'good')\n",
    "            badY = np.count_nonzero(Y == 'bad')\n",
    "            goodN = np.count_nonzero(N == 'good')\n",
    "            badN = np.count_nonzero(N == 'bad')\n",
    "            \n",
    "            # Calculate Infomation Gain for the Split\n",
    "            infoGain = InformationGain(goodY,badY,goodN,badN)\n",
    "            \n",
    "            print('---')\n",
    "            print('Splitting on {} = {}'.format(col, rule))\n",
    "            print('# of Good in Y: {}'.format(goodY))\n",
    "            print('# of Bad in Y: {}'.format(badY))\n",
    "            print('# of Good in N: {}'.format(goodN))\n",
    "            print('# of Bad in N: {}'.format(badN))\n",
    "            print(\"Info Gain: {}\".format(infoGain))\n",
    "    \n",
    "    return\n",
    "\n",
    "CategoricalRules(df)"
   ]
  },
  {
   "cell_type": "markdown",
   "metadata": {},
   "source": [
    "c) Enumerate all the possible binary questions you could ask for the real-valued variable HP.  For each such split, compute the numbers of \"good\" and \"bad\" MPG vehicles in each of the two child nodes, and compute the information gain using the provided function above. (5 pts) \n",
    "\n",
    "NOTE: if you'd like, you can just use all midpoints between consecutive values of the sorted HP attribute.  You are not required to exclude provably suboptimal questions like we did in the lecture."
   ]
  },
  {
   "cell_type": "code",
   "execution_count": 126,
   "metadata": {
    "scrolled": false
   },
   "outputs": [
    {
     "name": "stdout",
     "output_type": "stream",
     "text": [
      "--- Unique Numerical Values ---\n",
      "[ 65  75  81  85  89  90  92  93  94  95 100 110 139 145 170 175 190]\n",
      "--- Mid Points ---\n",
      "[70.0, 78.0, 83.0, 87.0, 89.5, 91.0, 92.5, 93.5, 94.5, 97.5, 105.0, 124.5, 142.0, 157.5, 172.5, 182.5]\n",
      "---\n",
      "Splitting on HP > 70.0\n",
      "# of Good in Y: 4\n",
      "# of Bad in Y: 15\n",
      "# of Good in N: 1\n",
      "# of Bad in N: 0\n",
      "Info Gain: 0.10591493339411553\n",
      "---\n",
      "Splitting on HP > 78.0\n",
      "# of Good in Y: 3\n",
      "# of Bad in Y: 15\n",
      "# of Good in N: 2\n",
      "# of Bad in N: 0\n",
      "Info Gain: 0.22625794497561413\n",
      "---\n",
      "Splitting on HP > 83.0\n",
      "# of Good in Y: 2\n",
      "# of Bad in Y: 15\n",
      "# of Good in N: 3\n",
      "# of Bad in N: 0\n",
      "Info Gain: 0.36710265610273324\n",
      "---\n",
      "Splitting on HP > 87.0\n",
      "# of Good in Y: 2\n",
      "# of Bad in Y: 14\n",
      "# of Good in N: 3\n",
      "# of Bad in N: 1\n",
      "Info Gain: 0.21417094500762923\n",
      "---\n",
      "Splitting on HP > 89.5\n",
      "# of Good in Y: 1\n",
      "# of Bad in Y: 14\n",
      "# of Good in N: 4\n",
      "# of Bad in N: 1\n",
      "Info Gain: 0.36577659947122626\n",
      "---\n",
      "Splitting on HP > 91.0\n",
      "# of Good in Y: 1\n",
      "# of Bad in Y: 13\n",
      "# of Good in N: 4\n",
      "# of Bad in N: 2\n",
      "Info Gain: 0.2759267455941731\n",
      "---\n",
      "Splitting on HP > 92.5\n",
      "# of Good in Y: 0\n",
      "# of Bad in Y: 13\n",
      "# of Good in N: 5\n",
      "# of Bad in N: 2\n",
      "Info Gain: 0.5091859254608121\n",
      "---\n",
      "Splitting on HP > 93.5\n",
      "# of Good in Y: 0\n",
      "# of Bad in Y: 12\n",
      "# of Good in N: 5\n",
      "# of Bad in N: 3\n",
      "Info Gain: 0.4295045232891469\n",
      "---\n",
      "Splitting on HP > 94.5\n",
      "# of Good in Y: 0\n",
      "# of Bad in Y: 11\n",
      "# of Good in N: 5\n",
      "# of Bad in N: 4\n",
      "Info Gain: 0.3652938975319328\n",
      "---\n",
      "Splitting on HP > 97.5\n",
      "# of Good in Y: 0\n",
      "# of Bad in Y: 8\n",
      "# of Good in N: 5\n",
      "# of Bad in N: 7\n",
      "Info Gain: 0.22335687046844122\n",
      "---\n",
      "Splitting on HP > 105.0\n",
      "# of Good in Y: 0\n",
      "# of Bad in Y: 6\n",
      "# of Good in N: 5\n",
      "# of Bad in N: 9\n",
      "Info Gain: 0.15307795338969116\n",
      "---\n",
      "Splitting on HP > 124.5\n",
      "# of Good in Y: 0\n",
      "# of Bad in Y: 5\n",
      "# of Good in N: 5\n",
      "# of Bad in N: 10\n",
      "Info Gain: 0.1225562489182657\n",
      "---\n",
      "Splitting on HP > 142.0\n",
      "# of Good in Y: 0\n",
      "# of Bad in Y: 4\n",
      "# of Good in N: 5\n",
      "# of Bad in N: 11\n",
      "Info Gain: 0.09444753843148686\n",
      "---\n",
      "Splitting on HP > 157.5\n",
      "# of Good in Y: 0\n",
      "# of Bad in Y: 3\n",
      "# of Good in N: 5\n",
      "# of Bad in N: 12\n",
      "Info Gain: 0.06839423355087862\n",
      "---\n",
      "Splitting on HP > 172.5\n",
      "# of Good in Y: 0\n",
      "# of Bad in Y: 2\n",
      "# of Good in N: 5\n",
      "# of Bad in N: 13\n",
      "Info Gain: 0.044113463674602206\n",
      "---\n",
      "Splitting on HP > 182.5\n",
      "# of Good in Y: 0\n",
      "# of Bad in Y: 1\n",
      "# of Good in N: 5\n",
      "# of Bad in N: 14\n",
      "Info Gain: 0.021377455849890127\n"
     ]
    }
   ],
   "source": [
    "def numercialRules(df):\n",
    "    \n",
    "    # find numberical columns\n",
    "    cols = list(df.iloc[:, 1:len(df.columns)].select_dtypes(exclude = ['category', 'object']))\n",
    "    \n",
    "    # sort and find midpoint of numerical\n",
    "    for col in cols:\n",
    "        unique_val = np.unique(df[cols])\n",
    "        print(\"--- Unique Numerical Values ---\")\n",
    "        print(unique_val)\n",
    "        \n",
    "        # Find midpoints of two sorted values as splitting rules\n",
    "        rules = []\n",
    "        for i in range(0, len(unique_val)):\n",
    "            try:\n",
    "                rules.append((unique_val[i]+unique_val[i+1])/2)\n",
    "            except IndexError:\n",
    "                pass\n",
    "        print(\"--- Mid Points ---\")\n",
    "        print(rules)\n",
    "        \n",
    "        # Split the data based on numerical rules\n",
    "        for rule in rules:\n",
    "            \n",
    "            # Seperate full data based on the split condition\n",
    "            Y = df[df[col] > rule].iloc[:, 0]\n",
    "            N = df[df[col] <= rule].iloc[:, 0]\n",
    "            \n",
    "            # Calculate the number of Good / Bad in each split\n",
    "            goodY = np.count_nonzero(Y == 'good')\n",
    "            badY = np.count_nonzero(Y == 'bad')\n",
    "            goodN = np.count_nonzero(N == 'good')\n",
    "            badN = np.count_nonzero(N == 'bad')\n",
    "            \n",
    "            # Calculate Infomation Gain for the Split\n",
    "            infoGain = InformationGain(goodY,badY,goodN,badN)\n",
    "            \n",
    "            print('---')\n",
    "            print('Splitting on {} > {}'.format(col, rule))\n",
    "            print('# of Good in Y: {}'.format(goodY))\n",
    "            print('# of Bad in Y: {}'.format(badY))\n",
    "            print('# of Good in N: {}'.format(goodN))\n",
    "            print('# of Bad in N: {}'.format(badN))\n",
    "            print(\"Info Gain: {}\".format(infoGain))\n",
    "        \n",
    "    return\n",
    "\n",
    "numercialRules(df)"
   ]
  },
  {
   "cell_type": "markdown",
   "metadata": {},
   "source": [
    "d) Based on your results for parts b and c, what is the optimal binary split of the data?  Of the two child nodes created by this split, which (if any) would require further partitioning? (4 pts)"
   ]
  },
  {
   "cell_type": "markdown",
   "metadata": {},
   "source": [
    "**Answer**: the best binary split is HP > 92.5 because it has the highest info gain of 0.51. For the two child nodes created by this split, HP <= 92.5 requires further partitioning because there is still a mix of Good / Bad in this node."
   ]
  },
  {
   "cell_type": "markdown",
   "metadata": {},
   "source": [
    "e) Repeat parts a through d until all training data points are perfectly classified by the resulting tree. (6 pts)"
   ]
  },
  {
   "cell_type": "code",
   "execution_count": 135,
   "metadata": {},
   "outputs": [
    {
     "name": "stdout",
     "output_type": "stream",
     "text": [
      "--- Split on HP > 92.5 ---\n",
      "Info Gain: 0.5091859254608121\n",
      "Y Node: 0 Good | 13 Bad\n",
      "N Node: 5 Good | 2 Bad\n",
      "-------------------\n",
      "Next: Split on N node because it is impure\n",
      " \n",
      "--- Split on cylinders = 4 ---\n",
      "Info Gain: 0.8631205685666309\n",
      "Y Node: 5 Good | 0 Bad\n",
      "N Node: 0 Good | 2 Bad\n",
      "-------------------\n",
      "All Child Nodes are Pure. Stop.\n"
     ]
    }
   ],
   "source": [
    "def infoGain(df, col, val, col_type):\n",
    "    '''\n",
    "    This function calculates the information gain given a split condition and counts of labels of the two child nodes\n",
    "    Input: dataframe, column of the split, value of the split, and column type\n",
    "    Output: information gain, list of counts by label\n",
    "    '''\n",
    "    \n",
    "    if col_type == \"cat\":\n",
    "        # Seperate full data based on the split condition\n",
    "        Y = df[df[col] == val].iloc[:, 0]\n",
    "        N = df[df[col] != val].iloc[:, 0]\n",
    "    else: \n",
    "        # Seperate full data based on the split condition\n",
    "        Y = df[df[col] > val].iloc[:, 0]\n",
    "        N = df[df[col] <= val].iloc[:, 0]\n",
    "    \n",
    "    # Calculate the number of Good / Bad in each split\n",
    "    goodY = np.count_nonzero(Y == 'good')\n",
    "    badY = np.count_nonzero(Y == 'bad')\n",
    "    goodN = np.count_nonzero(N == 'good')\n",
    "    badN = np.count_nonzero(N == 'bad')\n",
    "\n",
    "    # Calculate Infomation Gain for the Split\n",
    "    infoGain = InformationGain(goodY,badY,goodN,badN)\n",
    "        \n",
    "    return infoGain, [goodY, badY, goodN, badN]\n",
    "\n",
    "def FindSplit(df):\n",
    "    \n",
    "    '''\n",
    "    This function performs a decision tree process for any given data frame. It recurse until all stop\n",
    "    conditions are met (e.g. no more impurity in child node)\n",
    "    Input: data frame\n",
    "    Output: None\n",
    "    '''\n",
    "    \n",
    "    cat_col =list(df.iloc[:, 1:len(df.columns)].select_dtypes(include = ['category', 'object']))\n",
    "    num_col =list(df.iloc[:, 1:len(df.columns)].select_dtypes(exclude = ['category', 'object']))\n",
    "    \n",
    "    # Define all splitting rules\n",
    "    cols = []\n",
    "    rules = [] # split condition (e.g. 92.5)\n",
    "    split_name = [] # split name (e.g. HP > 92.5)\n",
    "    info_gain = [] # info gain of this split (e.g. 0.501)\n",
    "    node_mix = [] # count of mixed label at child node (e.g. [0, 13, 0, 5])\n",
    "    \n",
    "    for col in cat_col:\n",
    "        unique_val = np.unique(df[col])\n",
    "        for val in unique_val:\n",
    "            cols.append([col, \"cat\"])\n",
    "            rules.append(val)\n",
    "            split_name.append(str(col) + \" = \" + str(val))\n",
    "            \n",
    "            gain, mix = infoGain(df, col, val, 'cat')\n",
    "            info_gain.append(gain)\n",
    "            node_mix.append(mix)\n",
    "    \n",
    "    for col in num_col:\n",
    "        unique_val = np.unique(df[col])\n",
    "        for i in range(0, len(unique_val)):\n",
    "            try:\n",
    "                midpoint = (unique_val[i]+unique_val[i+1])/2\n",
    "                cols.append([col, \"num\"])\n",
    "                rules.append(midpoint)\n",
    "                split_name.append(str(col) + \" > \" + str(midpoint))\n",
    "                \n",
    "                gain, mix = infoGain(df, col, midpoint, 'num')\n",
    "                info_gain.append(gain)\n",
    "                node_mix.append(mix)\n",
    "            \n",
    "            except IndexError:\n",
    "                pass\n",
    "    \n",
    "    # Get the Index of the split condition based on Info Gain\n",
    "    best_split_idx = np.argmax(info_gain)\n",
    "    \n",
    "    print('--- Split on {} ---'.format(split_name[best_split_idx]))\n",
    "    print('Info Gain: {}'.format(info_gain[best_split_idx]))\n",
    "    print('Y Node: {} Good | {} Bad'.format(node_mix[best_split_idx][0], node_mix[best_split_idx][1]))\n",
    "    print('N Node: {} Good | {} Bad'.format(node_mix[best_split_idx][2], node_mix[best_split_idx][3]))\n",
    "    print('-------------------')\n",
    "    \n",
    "    # Recurse FindSplit() on child node(s)\n",
    "    \n",
    "    if node_mix[best_split_idx][0] != 0 and node_mix[best_split_idx][1] !=0:\n",
    "        \n",
    "        # recurse splitting on the Y node\n",
    "        print('Next: Split on Y node because it is impure')\n",
    "        print(' ')\n",
    "        \n",
    "        if cols[best_split_idx][1] == \"cat\":\n",
    "            FindSplit(df[df[cols[best_split_idx][0]] == rules[best_split_idx]])\n",
    "        else: \n",
    "            FindSplit(df[df[cols[best_split_idx][0]] > rules[best_split_idx]])\n",
    "    \n",
    "    elif node_mix[best_split_idx][2] != 0 and node_mix[best_split_idx][3] !=0:\n",
    "       \n",
    "        # recurse splitting on the N node\n",
    "        print('Next: Split on N node because it is impure')\n",
    "        print(' ')\n",
    "        \n",
    "        if cols[best_split_idx][1] == \"cat\":\n",
    "            FindSplit(df[df[cols[best_split_idx][0]] != rules[best_split_idx]])\n",
    "        else: \n",
    "            FindSplit(df[df[cols[best_split_idx][0]] <= rules[best_split_idx]])\n",
    "    else:\n",
    "        print('All Child Nodes are Pure. Stop.')\n",
    "        \n",
    "    return\n",
    "\n",
    "FindSplit(df)"
   ]
  },
  {
   "cell_type": "markdown",
   "metadata": {},
   "source": [
    "f) Draw or show the final decision tree in a format of your choice.  The decision to make at each step and the predicted value at each leaf node must be clear. (4 pts)"
   ]
  },
  {
   "cell_type": "markdown",
   "metadata": {},
   "source": [
    "**Answer**: See output from cell above."
   ]
  },
  {
   "cell_type": "markdown",
   "metadata": {},
   "source": [
    "g) Classify each of the following four vehicles as having \"good\" or \"bad\" fuel efficiency (miles per gallon).  Do this by hand using the tree structure learned in part f. (4 pts)\n",
    "\n",
    "?,8,70,light -> Bad\n",
    "\n",
    "?,6,113,medium -> Bad\n",
    "\n",
    "?,4,83,weighty -> Good\n",
    "\n",
    "?,4,95,weighty -> Bad\n"
   ]
  },
  {
   "cell_type": "markdown",
   "metadata": {},
   "source": [
    "### Question 3, Predicting burden of disease （40 pts)"
   ]
  },
  {
   "cell_type": "code",
   "execution_count": 128,
   "metadata": {},
   "outputs": [
    {
     "data": {
      "text/html": [
       "<div>\n",
       "<style scoped>\n",
       "    .dataframe tbody tr th:only-of-type {\n",
       "        vertical-align: middle;\n",
       "    }\n",
       "\n",
       "    .dataframe tbody tr th {\n",
       "        vertical-align: top;\n",
       "    }\n",
       "\n",
       "    .dataframe thead th {\n",
       "        text-align: right;\n",
       "    }\n",
       "</style>\n",
       "<table border=\"1\" class=\"dataframe\">\n",
       "  <thead>\n",
       "    <tr style=\"text-align: right;\">\n",
       "      <th></th>\n",
       "      <th>Country</th>\n",
       "      <th>FrxnPeaceIn10</th>\n",
       "      <th>ODA4H2OPcptaDol</th>\n",
       "      <th>RenewResm3PcptaYr</th>\n",
       "      <th>SustAccImprWatRur</th>\n",
       "      <th>SustAccImprWatUrb</th>\n",
       "      <th>SustAccImprSanRur</th>\n",
       "      <th>SustAccImprSanUrb</th>\n",
       "      <th>TotHlthExpPctofGDP</th>\n",
       "      <th>GenGovtPctofTotHlthExp</th>\n",
       "      <th>ExtResHlthPctTotExpHlth</th>\n",
       "      <th>PCptaGovtExpHlthAvgExcRt</th>\n",
       "      <th>GDPPCptaIntDol</th>\n",
       "      <th>AdultLtrcyRate</th>\n",
       "      <th>FemaleLtrcyRate</th>\n",
       "      <th>BurdenOfDisease</th>\n",
       "    </tr>\n",
       "  </thead>\n",
       "  <tbody>\n",
       "    <tr>\n",
       "      <th>0</th>\n",
       "      <td>Afghanistan</td>\n",
       "      <td>0.1</td>\n",
       "      <td>0.16</td>\n",
       "      <td>2986</td>\n",
       "      <td>0.10891</td>\n",
       "      <td>0.18812</td>\n",
       "      <td>0.049505</td>\n",
       "      <td>0.15842</td>\n",
       "      <td>0.065</td>\n",
       "      <td>0.395</td>\n",
       "      <td>0.4560</td>\n",
       "      <td>4</td>\n",
       "      <td>430</td>\n",
       "      <td>0.35644</td>\n",
       "      <td>0.20792</td>\n",
       "      <td>awful</td>\n",
       "    </tr>\n",
       "    <tr>\n",
       "      <th>1</th>\n",
       "      <td>Albania</td>\n",
       "      <td>1.0</td>\n",
       "      <td>5.58</td>\n",
       "      <td>13306</td>\n",
       "      <td>0.94059</td>\n",
       "      <td>0.98020</td>\n",
       "      <td>0.801980</td>\n",
       "      <td>0.98020</td>\n",
       "      <td>0.065</td>\n",
       "      <td>0.417</td>\n",
       "      <td>0.0340</td>\n",
       "      <td>49</td>\n",
       "      <td>6158</td>\n",
       "      <td>0.85644</td>\n",
       "      <td>0.78713</td>\n",
       "      <td>low</td>\n",
       "    </tr>\n",
       "    <tr>\n",
       "      <th>2</th>\n",
       "      <td>Algeria</td>\n",
       "      <td>0.0</td>\n",
       "      <td>0.33</td>\n",
       "      <td>473</td>\n",
       "      <td>0.79208</td>\n",
       "      <td>0.91089</td>\n",
       "      <td>0.811880</td>\n",
       "      <td>0.98020</td>\n",
       "      <td>0.041</td>\n",
       "      <td>0.808</td>\n",
       "      <td>0.0005</td>\n",
       "      <td>71</td>\n",
       "      <td>4860</td>\n",
       "      <td>0.69307</td>\n",
       "      <td>0.60396</td>\n",
       "      <td>high</td>\n",
       "    </tr>\n",
       "  </tbody>\n",
       "</table>\n",
       "</div>"
      ],
      "text/plain": [
       "       Country  FrxnPeaceIn10  ODA4H2OPcptaDol  RenewResm3PcptaYr  \\\n",
       "0  Afghanistan            0.1             0.16               2986   \n",
       "1      Albania            1.0             5.58              13306   \n",
       "2      Algeria            0.0             0.33                473   \n",
       "\n",
       "   SustAccImprWatRur  SustAccImprWatUrb  SustAccImprSanRur  SustAccImprSanUrb  \\\n",
       "0            0.10891            0.18812           0.049505            0.15842   \n",
       "1            0.94059            0.98020           0.801980            0.98020   \n",
       "2            0.79208            0.91089           0.811880            0.98020   \n",
       "\n",
       "   TotHlthExpPctofGDP  GenGovtPctofTotHlthExp  ExtResHlthPctTotExpHlth  \\\n",
       "0               0.065                   0.395                   0.4560   \n",
       "1               0.065                   0.417                   0.0340   \n",
       "2               0.041                   0.808                   0.0005   \n",
       "\n",
       "   PCptaGovtExpHlthAvgExcRt  GDPPCptaIntDol  AdultLtrcyRate  FemaleLtrcyRate  \\\n",
       "0                         4             430         0.35644          0.20792   \n",
       "1                        49            6158         0.85644          0.78713   \n",
       "2                        71            4860         0.69307          0.60396   \n",
       "\n",
       "  BurdenOfDisease  \n",
       "0           awful  \n",
       "1             low  \n",
       "2            high  "
      ]
     },
     "execution_count": 128,
     "metadata": {},
     "output_type": "execute_result"
    }
   ],
   "source": [
    "data=pd.read_csv(\"Burden of diarrheal illness by country.csv\")\n",
    "data.head(3)"
   ]
  },
  {
   "cell_type": "markdown",
   "metadata": {},
   "source": [
    "### Data dictionary\n",
    "\n",
    "NAME: Burden of diarrheal illness by country\n",
    "\n",
    "SIZE: 130 Countries, 16 Variables\n",
    "\n",
    "VARIABLE DESCRIPTIONS:\n",
    "\n",
    "Country: Country name\n",
    "\n",
    "FrxnPeaceIn10: Fraction of the past ten years in which a country has been at peace \n",
    "\n",
    "ODA4H2OPcptaDol: Per Capita Official Developmental Assistance for water projects\n",
    "\n",
    "RenewResm3PcptaYr: Renewable Water Resources in cubic meters per capita per year\n",
    "\n",
    "SustAccImprWatRur: Fraction of rural population with sustainable access to improved water\n",
    "\n",
    "SustAccImprWatUrb: Fraction of urban population with sustainable access to improved water\n",
    "\n",
    "SustAccImprSanRur: Fraction of rural population with sustainable access to improved sanitation\n",
    "\n",
    "SustAccImprSanUrb: Fraction of urban population with sustainable access to improved sanitation\n",
    "\n",
    "TotHlthExpPctofGDP: Fraction of a country's GDP devoted to health spending\n",
    "\n",
    "GenGovtPctofTotHlthExp: The fraction of total health expenditures for a country which is provided by the government\n",
    "\n",
    "ExtResHlthPctTotExpHlth: The fraction of total health expenditures for a country which is comes from sources external to the country\n",
    "\n",
    "PCptaGovtExpHlthAvgExcRt: Per Capita Government Health Expenditures at the average exchange rate\n",
    "\n",
    "GDPPCptaIntDol: Gross Domestic Product per capita in international dollars\n",
    "\n",
    "AdultLtrcyRate: Adult Literacy rate\n",
    "\n",
    "FemaleLtrcyRate: Female Literacy rate\n",
    "\n",
    "BurdenOfDisease: Our target variable for classification.  The burden of disease due to diarrheal illness, categorized into \"low\", \"medium\", \"high\", and \"awful\" quartiles.  For each country, we have estimates of the number of Disability-Adjusted Life Years lost per 1000 persons per year (DALYs) due to diarrheal illness.  Countries with \"low\" burden of disease have up to 2.75345 DALYs; countries with \"medium\" burden of disease have between 2.75345 and 8.2127 DALYs; countries with \"high\" burden of disease have between 8.2127 and 26.699 DALYs; and countries with \"awful\" burden of diease have more than 26.699 DALYs."
   ]
  },
  {
   "cell_type": "markdown",
   "metadata": {},
   "source": [
    "### Your goal is to train a decision tree classifier for the attribute “BurdenOfDisease\" using all other variables (except country name) as features with sklearn.tree.DecisionTreeClassifier. \n",
    "http://scikit-learn.org/stable/modules/generated/sklearn.tree.DecisionTreeClassifier.html"
   ]
  },
  {
   "cell_type": "markdown",
   "metadata": {},
   "source": [
    "a) Please choose a train/test split and choose a hyper-parameter governing model simplicity, for example, the maximum tree depth or maximum number of leaf nodes. Then, fit your decision tree classifier (using the training set) for different values of this parameter and for each such value, record the corresponding classification accuracy on the test set. (10 pts)"
   ]
  },
  {
   "cell_type": "code",
   "execution_count": 129,
   "metadata": {},
   "outputs": [],
   "source": [
    "from sklearn.model_selection import train_test_split\n",
    "from sklearn.tree import DecisionTreeClassifier\n",
    "\n",
    "# your code here"
   ]
  },
  {
   "cell_type": "markdown",
   "metadata": {},
   "source": [
    "b) Make a plot of accuracy vs. simplicity for different values of the hyper-parameter chosen in part a). That is, the x-axis should be hyper-parameter value (e.g. tree depth) and the y-axis should be accuracy. (10 pts)"
   ]
  },
  {
   "cell_type": "code",
   "execution_count": 130,
   "metadata": {},
   "outputs": [],
   "source": [
    "import matplotlib.pylab as plt\n",
    "\n",
    "# your code here"
   ]
  },
  {
   "cell_type": "markdown",
   "metadata": {},
   "source": [
    "c) Tune the hyper-parameter you choose in part a) by cross-validation using the training data. You can choose to use the GridSearchCV package from sklearn or write your own code to do cross-validation by spliting the training data into training and validation data. What is the out of sample accuracy after tuning the hyper-parameter? (10 pts)"
   ]
  },
  {
   "cell_type": "code",
   "execution_count": 131,
   "metadata": {},
   "outputs": [],
   "source": [
    "from sklearn.model_selection import GridSearchCV\n",
    "\n",
    "# your code here"
   ]
  },
  {
   "cell_type": "markdown",
   "metadata": {},
   "source": [
    "d) Visualize a simple decision tree (e.g., with max_depth = 2 or 3) learned from the data.  To do so, given your decision tree dt, you can use the code below, then copy and paste the resulting output into http://www.webgraphviz.com.  Alternatively, if you have graphviz installed on your machine, you can use that. (5 pts)"
   ]
  },
  {
   "cell_type": "code",
   "execution_count": 132,
   "metadata": {
    "scrolled": false
   },
   "outputs": [
    {
     "ename": "SyntaxError",
     "evalue": "Missing parentheses in call to 'print'. Did you mean print(thestring)? (<ipython-input-132-49bb077b4d67>, line 10)",
     "output_type": "error",
     "traceback": [
      "\u001b[0;36m  File \u001b[0;32m\"<ipython-input-132-49bb077b4d67>\"\u001b[0;36m, line \u001b[0;32m10\u001b[0m\n\u001b[0;31m    print thestring\u001b[0m\n\u001b[0m                  ^\u001b[0m\n\u001b[0;31mSyntaxError\u001b[0m\u001b[0;31m:\u001b[0m Missing parentheses in call to 'print'. Did you mean print(thestring)?\n"
     ]
    }
   ],
   "source": [
    "from sklearn import tree\n",
    "\n",
    "# your code here\n",
    "\n",
    "thestring=tree.export_graphviz(dt,out_file=None,\n",
    "                         feature_names=X_train.columns.values,  \n",
    "                         class_names=dt.classes_,  \n",
    "                         filled=True, rounded=True,  \n",
    "                         special_characters=True,impurity=False).replace(\"<br/>\",\", \").replace(\"&le;\",\"<=\").replace(\"=<\",\"=\\\"\").replace(\">,\",\"\\\",\")\n",
    "print thestring"
   ]
  },
  {
   "cell_type": "markdown",
   "metadata": {},
   "source": [
    "### Question 4, Fit a random forest to the data from question 3 (20 pts)\n",
    "\n",
    "a) Please use the same test/train split from previous question and feel free to tune the hyper-parameters for Random Forest model using training data. The package from sklearn is here: http://scikit-learn.org/stable/modules/generated/sklearn.ensemble.RandomForestClassifier.html.\n",
    "Then please report your out of sample prediction result and compare this model's performance with 3c). (10 pts)"
   ]
  },
  {
   "cell_type": "code",
   "execution_count": null,
   "metadata": {},
   "outputs": [],
   "source": [
    "from sklearn.ensemble import RandomForestClassifier\n",
    "from sklearn.model_selection import GridSearchCV\n",
    "\n",
    "# your code here"
   ]
  },
  {
   "cell_type": "markdown",
   "metadata": {
    "collapsed": true
   },
   "source": [
    "b) Write one paragraph comparing the results from those two models (Random Forest vs Decision Tree) in terms of both accuracy and interpretability. (10 pts)"
   ]
  },
  {
   "cell_type": "markdown",
   "metadata": {
    "collapsed": true
   },
   "source": [
    "Your answer here."
   ]
  }
 ],
 "metadata": {
  "anaconda-cloud": {},
  "celltoolbar": "Raw Cell Format",
  "kernelspec": {
   "display_name": "Python 3",
   "language": "python",
   "name": "python3"
  },
  "language_info": {
   "codemirror_mode": {
    "name": "ipython",
    "version": 3
   },
   "file_extension": ".py",
   "mimetype": "text/x-python",
   "name": "python",
   "nbconvert_exporter": "python",
   "pygments_lexer": "ipython3",
   "version": "3.6.4"
  }
 },
 "nbformat": 4,
 "nbformat_minor": 2
}
