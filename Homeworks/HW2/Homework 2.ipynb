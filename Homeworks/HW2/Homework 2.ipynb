{
 "cells": [
  {
   "cell_type": "code",
   "execution_count": 492,
   "metadata": {},
   "outputs": [],
   "source": [
    "import numpy as np\n",
    "import pandas as pd\n",
    "from sklearn import svm\n",
    "from sklearn.metrics import accuracy_score\n",
    "from sklearn.model_selection import cross_val_score\n",
    "import math\n",
    "import matplotlib.pyplot as plt\n",
    "from matplotlib import rcParams\n",
    "rcParams['figure.figsize'] = 6, 4\n",
    "import warnings\n",
    "\n",
    "warnings.filterwarnings(\"ignore\")"
   ]
  },
  {
   "cell_type": "markdown",
   "metadata": {},
   "source": [
    "## Task 1 (5+5+5+5+5=25 pts)\n",
    "\n",
    "### Consider the dataset HW2_task1.csv, a binary classification problem with two real-valued input attributes.  As you can see from the plot, the dataset is linearly separable. Train a linear SVM (setting C=100000 just to emphasize that no slack variables are allowed) and  answer the following five questions: "
   ]
  },
  {
   "cell_type": "code",
   "execution_count": 378,
   "metadata": {},
   "outputs": [
    {
     "data": {
      "image/png": "[encoded data removed]",
      "text/plain": [
       "<matplotlib.figure.Figure at 0x1a26d495c0>"
      ]
     },
     "metadata": {},
     "output_type": "display_data"
    }
   ],
   "source": [
    "# Data\n",
    "data1=pd.read_csv('HW2_task1.csv')\n",
    "X=data1.iloc[:,:2]\n",
    "Y=data1.iloc[:,2]\n",
    "plt.gca()\n",
    "plt.scatter(X.iloc[:,0], X.iloc[:,1], s=50, c=Y, cmap=plt.cm.get_cmap('coolwarm', 2))\n",
    "plt.show()"
   ]
  },
  {
   "cell_type": "code",
   "execution_count": 379,
   "metadata": {},
   "outputs": [
    {
     "data": {
      "text/html": [
       "<div>\n",
       "<style scoped>\n",
       "    .dataframe tbody tr th:only-of-type {\n",
       "        vertical-align: middle;\n",
       "    }\n",
       "\n",
       "    .dataframe tbody tr th {\n",
       "        vertical-align: top;\n",
       "    }\n",
       "\n",
       "    .dataframe thead th {\n",
       "        text-align: right;\n",
       "    }\n",
       "</style>\n",
       "<table border=\"1\" class=\"dataframe\">\n",
       "  <thead>\n",
       "    <tr style=\"text-align: right;\">\n",
       "      <th></th>\n",
       "      <th>x1</th>\n",
       "      <th>x2</th>\n",
       "      <th>y</th>\n",
       "    </tr>\n",
       "  </thead>\n",
       "  <tbody>\n",
       "    <tr>\n",
       "      <th>0</th>\n",
       "      <td>-2.515039</td>\n",
       "      <td>-1.408103</td>\n",
       "      <td>0</td>\n",
       "    </tr>\n",
       "    <tr>\n",
       "      <th>1</th>\n",
       "      <td>-1.952127</td>\n",
       "      <td>-2.488405</td>\n",
       "      <td>0</td>\n",
       "    </tr>\n",
       "    <tr>\n",
       "      <th>2</th>\n",
       "      <td>-2.354953</td>\n",
       "      <td>-2.391813</td>\n",
       "      <td>0</td>\n",
       "    </tr>\n",
       "    <tr>\n",
       "      <th>3</th>\n",
       "      <td>-0.135739</td>\n",
       "      <td>-3.371490</td>\n",
       "      <td>0</td>\n",
       "    </tr>\n",
       "    <tr>\n",
       "      <th>4</th>\n",
       "      <td>0.226275</td>\n",
       "      <td>-2.118110</td>\n",
       "      <td>0</td>\n",
       "    </tr>\n",
       "    <tr>\n",
       "      <th>5</th>\n",
       "      <td>-1.880152</td>\n",
       "      <td>-1.817401</td>\n",
       "      <td>0</td>\n",
       "    </tr>\n",
       "    <tr>\n",
       "      <th>6</th>\n",
       "      <td>-2.657739</td>\n",
       "      <td>-3.646232</td>\n",
       "      <td>0</td>\n",
       "    </tr>\n",
       "    <tr>\n",
       "      <th>7</th>\n",
       "      <td>-3.141584</td>\n",
       "      <td>-3.439089</td>\n",
       "      <td>0</td>\n",
       "    </tr>\n",
       "    <tr>\n",
       "      <th>8</th>\n",
       "      <td>-1.255008</td>\n",
       "      <td>-3.739220</td>\n",
       "      <td>0</td>\n",
       "    </tr>\n",
       "    <tr>\n",
       "      <th>9</th>\n",
       "      <td>-2.332197</td>\n",
       "      <td>-2.738413</td>\n",
       "      <td>0</td>\n",
       "    </tr>\n",
       "  </tbody>\n",
       "</table>\n",
       "</div>"
      ],
      "text/plain": [
       "         x1        x2  y\n",
       "0 -2.515039 -1.408103  0\n",
       "1 -1.952127 -2.488405  0\n",
       "2 -2.354953 -2.391813  0\n",
       "3 -0.135739 -3.371490  0\n",
       "4  0.226275 -2.118110  0\n",
       "5 -1.880152 -1.817401  0\n",
       "6 -2.657739 -3.646232  0\n",
       "7 -3.141584 -3.439089  0\n",
       "8 -1.255008 -3.739220  0\n",
       "9 -2.332197 -2.738413  0"
      ]
     },
     "execution_count": 379,
     "metadata": {},
     "output_type": "execute_result"
    }
   ],
   "source": [
    "data1.head(10)"
   ]
  },
  {
   "cell_type": "markdown",
   "metadata": {},
   "source": [
    "#### a. Report the separating hyperplane (line)."
   ]
  },
  {
   "cell_type": "code",
   "execution_count": 380,
   "metadata": {},
   "outputs": [
    {
     "data": {
      "image/png": "[encoded data removed]",
      "text/plain": [
       "<matplotlib.figure.Figure at 0x1a269a1d30>"
      ]
     },
     "metadata": {},
     "output_type": "display_data"
    },
    {
     "name": "stdout",
     "output_type": "stream",
     "text": [
      "--- coefficient ---\n",
      "[ 0.66329036  0.56359437]\n"
     ]
    }
   ],
   "source": [
    "# Train a SVM classifier\n",
    "\n",
    "clf = svm.SVC(C = 10000, kernel='linear')\n",
    "clf.fit(X, Y)\n",
    "\n",
    "# Get the Hyperplane parameters\n",
    "w = clf.coef_[0]\n",
    "a = -w[0] / w[1]\n",
    "x1 = np.linspace(-3, 4)\n",
    "x2 = a * x1 - (clf.intercept_[0]) / w[1]\n",
    "\n",
    "# Plot the Graph\n",
    "\n",
    "plt.gca()\n",
    "plt.scatter(X.iloc[:,0], X.iloc[:,1], s=50, c=Y, cmap=plt.cm.get_cmap('coolwarm', 2))\n",
    "plt.plot(x1, x2)\n",
    "plt.title(\"SVM Hyperplane (line) of Dataset 1\");\n",
    "plt.show()\n",
    "\n",
    "print('--- coefficient ---')\n",
    "print(w)"
   ]
  },
  {
   "cell_type": "markdown",
   "metadata": {},
   "source": [
    "#### b. List the support vectors."
   ]
  },
  {
   "cell_type": "code",
   "execution_count": 381,
   "metadata": {},
   "outputs": [
    {
     "name": "stdout",
     "output_type": "stream",
     "text": [
      "--- Support Vectors ---\n",
      "[[ 0.22627536 -2.11810965]\n",
      " [-1.5180363  -0.06399383]\n",
      " [ 0.93564585  0.5969359 ]]\n"
     ]
    },
    {
     "data": {
      "image/png": "[encoded data removed]",
      "text/plain": [
       "<matplotlib.figure.Figure at 0x1a26941d30>"
      ]
     },
     "metadata": {},
     "output_type": "display_data"
    }
   ],
   "source": [
    "vectors = clf.support_vectors_\n",
    "x = []\n",
    "y = []\n",
    "for v in vectors:\n",
    "    x.append(v[0])\n",
    "    y.append(v[1])\n",
    "    \n",
    "plt.scatter(x, y)\n",
    "plt.plot(x1, x2)\n",
    "plt.title(\"Hyperplane and Support Vectors\");\n",
    "\n",
    "print(\"--- Support Vectors ---\")\n",
    "print(vectors)"
   ]
  },
  {
   "cell_type": "markdown",
   "metadata": {},
   "source": [
    "#### c. Calculate the upper and lower hyperplanes (lines) of the margin."
   ]
  },
  {
   "cell_type": "code",
   "execution_count": 382,
   "metadata": {},
   "outputs": [
    {
     "name": "stdout",
     "output_type": "stream",
     "text": [
      "Lower Margin Line: y = -1.1768931608710185x + -1.851807718698718\n",
      "Upper Margin Line: y = -1.1768931608710185x + 1.6980911044614855\n"
     ]
    },
    {
     "data": {
      "image/png": "[encoded data removed]",
      "text/plain": [
       "<matplotlib.figure.Figure at 0x1a26fb0f60>"
      ]
     },
     "metadata": {},
     "output_type": "display_data"
    }
   ],
   "source": [
    "# Calculate the upper and lower margins\n",
    "b = clf.support_vectors_[0]\n",
    "x2_down = a * x1 + (b[1] - a * b[0])\n",
    "print(\"Lower Margin Line: y = {}x + {}\".format(a, b[1] - a * b[0]))\n",
    "\n",
    "b = clf.support_vectors_[-1]\n",
    "x2_up = a * x1 + (b[1] - a * b[0])\n",
    "print(\"Upper Margin Line: y = {}x + {}\".format(a, b[1] - a * b[0]))\n",
    "\n",
    "# Plot Hyperplane, support vectors, and upper / lower margins\n",
    "plt.scatter(x, y)\n",
    "plt.plot(x1, x2, 'k-')\n",
    "plt.plot(x1, x2_down, 'k--')\n",
    "plt.plot(x1, x2_up, 'k--')\n",
    "plt.title(\"Hyperplane, Support Vectors, and Margins\");"
   ]
  },
  {
   "cell_type": "markdown",
   "metadata": {},
   "source": [
    "#### d. Compute the width of the margin."
   ]
  },
  {
   "cell_type": "code",
   "execution_count": 383,
   "metadata": {},
   "outputs": [
    {
     "name": "stdout",
     "output_type": "stream",
     "text": [
      "The width of the Margin: 1.1488996752138216\n"
     ]
    }
   ],
   "source": [
    "# Calculate M = 1 / distance of w \n",
    "\n",
    "M = 1 / np.sqrt(w[0]*w[0] + w[1]*w[1])\n",
    "print(\"The width of the Margin: {}\".format(M))"
   ]
  },
  {
   "cell_type": "markdown",
   "metadata": {},
   "source": [
    "#### e. What would you expect to happen to the margin if the constant C was made very small?"
   ]
  },
  {
   "cell_type": "markdown",
   "metadata": {},
   "source": [
    "This will increase the width of margin as C decreases."
   ]
  },
  {
   "cell_type": "markdown",
   "metadata": {},
   "source": [
    "## Task 2 (4+8+8=20 pts)\n",
    "\n",
    "### Given the dataset provided below, answer the following two questions:"
   ]
  },
  {
   "cell_type": "code",
   "execution_count": 384,
   "metadata": {},
   "outputs": [
    {
     "data": {
      "image/png": "[encoded data removed]",
      "text/plain": [
       "<matplotlib.figure.Figure at 0x1a26d49780>"
      ]
     },
     "metadata": {},
     "output_type": "display_data"
    }
   ],
   "source": [
    "# Data \n",
    "data2=pd.read_csv('HW2_task2.csv')\n",
    "X=data2.iloc[:,:2]\n",
    "Y=data2.iloc[:,2]\n",
    "\n",
    "plt.gca()\n",
    "plt.scatter(X.iloc[:,0], X.iloc[:,1], s=50, c=Y, cmap=plt.cm.get_cmap('coolwarm', 2));\n",
    "plt.show()\n",
    "\n",
    "# Generate training (X_train, Y_train) and testing (X_test, Y_test) datasets \n",
    "#for out of sample test\n",
    "from sklearn.model_selection import train_test_split\n",
    "X_train, X_test, Y_train, Y_test = train_test_split(X, Y, test_size=0.33, random_state=1)"
   ]
  },
  {
   "cell_type": "markdown",
   "metadata": {},
   "source": [
    "### a. Train a polynomial SVM using the training set. Use the default arguments, and report both in-sample (training set) and out-of-sample (test set) classification accuracy."
   ]
  },
  {
   "cell_type": "code",
   "execution_count": 385,
   "metadata": {},
   "outputs": [
    {
     "name": "stdout",
     "output_type": "stream",
     "text": [
      "In Sample Accuracy: 0.917910447761194\n",
      "Out of Sample Accuracy: 0.9181818181818182\n"
     ]
    }
   ],
   "source": [
    "# Train a polynomial SVM\n",
    "clf = svm.SVC(kernel='rbf',gamma=1) \n",
    "clf.fit(X_train, Y_train)\n",
    "\n",
    "# Measure In-Sample Score\n",
    "pred = clf.predict(X_train)\n",
    "print(\"In Sample Accuracy: {}\".format(accuracy_score(Y_train, pred)))\n",
    "\n",
    "# Measure Out-of-Sample Score\n",
    "pred = clf.predict(X_test)\n",
    "print(\"Out of Sample Accuracy: {}\".format(accuracy_score(Y_test, pred)))"
   ]
  },
  {
   "cell_type": "markdown",
   "metadata": {},
   "source": [
    "### Next we will use the validation subset in order to pick the optimal parameters for the polynomial model.\n",
    "\n",
    "### b. Try polynomials of degree 1,2,3,4. For each degree, consider a variety of regularization constants from the range C=[math.exp(i) for i in np.linspace(-10,2*degree,200)] in order to evaluate the classifier performance over the validation set defined below.  Plot the graph of \"Accuracy vs log(C)\" for each degree.\n"
   ]
  },
  {
   "cell_type": "code",
   "execution_count": 386,
   "metadata": {},
   "outputs": [],
   "source": [
    "# Next we generate validation data (X_vali, Y_vali) from the training dataset. \n",
    "# Denote the remaining training data by (X_train_1, Y_train_1).\n",
    "X_train_1,X_vali,Y_train_1,Y_vali = train_test_split(X_train, Y_train, \n",
    "                                                     test_size=0.33, random_state=99)\n",
    "\n",
    "def gridSearchSVM(X_train_1,Y_train_1):\n",
    "    '''\n",
    "    This function performs a grid search on polynomial degree and the corresponding contant C. \n",
    "    It also tracks the best accuracy and the associated degree and C.\n",
    "    Inputs: training data features, training data target\n",
    "    Outputs: \n",
    "        - results: list of C and accuracy pair\n",
    "        - max_accuracy: the best accuracy among all tested degree and C\n",
    "        - max_degree: the optimal degree that provided the best accuracy\n",
    "        - max_C: the optimal constant C that provided the best accuracy\n",
    "    \n",
    "    '''\n",
    "    results = []\n",
    "    max_accuracy = 0\n",
    "    max_degree = 1\n",
    "    max_C = 0\n",
    "    \n",
    "    for degree in (1, 2, 3, 4):\n",
    "        C_val = []\n",
    "        accuracy = []\n",
    "        for c in [math.exp(i) for i in np.linspace(-10, 2*degree, 200)]:\n",
    "            clf = svm.SVC(kernel='rbf', degree = degree, C = c)\n",
    "            clf.fit(X_train_1, Y_train_1)\n",
    "            pred = clf.predict(X_train_1)\n",
    "            score = accuracy_score(Y_train_1, pred)\n",
    "            \n",
    "            if score > max_accuracy:\n",
    "                max_accuracy = score\n",
    "                max_degree = degree\n",
    "                max_C = c\n",
    "            \n",
    "            C_val.append(np.log(c))\n",
    "            accuracy.append(score)\n",
    "        \n",
    "        results.append((C_val, accuracy))\n",
    "        \n",
    "    return results, max_accuracy, max_degree, max_C\n",
    "\n",
    "results, max_accuracy, max_degree, max_C = gridSearchSVM(X_train_1,Y_train_1)"
   ]
  },
  {
   "cell_type": "code",
   "execution_count": 387,
   "metadata": {},
   "outputs": [
    {
     "data": {
      "image/png": "[encoded data removed]",
      "text/plain": [
       "<matplotlib.figure.Figure at 0x1a270620f0>"
      ]
     },
     "metadata": {},
     "output_type": "display_data"
    }
   ],
   "source": [
    "for i in range(len(results)):\n",
    "    plt.plot(results[i][0], results[i][1], label = \"Degree \"+str(i+1))\n",
    "plt.legend()\n",
    "plt.title(\"In Sample Accuracy vs. log(c)\");"
   ]
  },
  {
   "cell_type": "markdown",
   "metadata": {},
   "source": [
    "### c. Choose the optimal degree and the optimal regularization constant C based on these graphs.  Use the optimal degree and C to compute and report the final out-of-sample accuracy of the best classification model selected. "
   ]
  },
  {
   "cell_type": "code",
   "execution_count": 388,
   "metadata": {},
   "outputs": [
    {
     "name": "stdout",
     "output_type": "stream",
     "text": [
      "--- Optimal Parameters ---\n",
      "The best accuracy: 0.921875\n",
      "The optimal degree at this accuracy: 3\n",
      "The optimal constant C: 74.5565418805813\n",
      "--- OOS Accuracy ---\n",
      "0.914414414414\n"
     ]
    }
   ],
   "source": [
    "# Print the Optimal Performance and Corresponding Parameters; Code in part b)\n",
    "print(\"--- Optimal Parameters ---\")\n",
    "print(\"The best accuracy: {}\".format(max_accuracy))\n",
    "print(\"The optimal degree at this accuracy: {}\".format(max_degree))\n",
    "print(\"The optimal constant C: {}\".format(max_C))\n",
    "\n",
    "# Comput Out of Sample Accuracy with Optimal Parameters\n",
    "\n",
    "clf = svm.SVC(kernel='rbf', degree = max_degree, C = max_C)\n",
    "clf.fit(X_train_1, Y_train_1)\n",
    "pred = clf.predict(X_vali)\n",
    "\n",
    "print(\"--- OOS Accuracy ---\") \n",
    "print(accuracy_score(Y_vali, pred))"
   ]
  },
  {
   "cell_type": "markdown",
   "metadata": {},
   "source": [
    "## Task 3 (5+5=10pts).\n",
    "\n",
    "### This task is to be done by hand rather than using Python.\n",
    "\n",
    "Assume you have a data set as below. It contains records of cars with three features: the type of the car (sports or SUV), the color of the car (red or yellow), and the origin of the car (domestic or imported). And the labels for the data are yes (car was stolen) and no (car was not stolen).\n",
    "\n",
    "CarType,Color,Origin,Stolen?\n",
    "\n",
    "sports,red,domestic,yes\n",
    "\n",
    "sports,red,domestic,yes\n",
    "\n",
    "sports,red,domestic,yes\n",
    "\n",
    "sports,red,imported,yes\n",
    "\n",
    "SUV,yellow,imported,yes\n",
    "\n",
    "SUV,red,imported,yes\n",
    "\n",
    "---\n",
    "\n",
    "SUV,red,domestic,no\n",
    "\n",
    "SUV,yellow,imported,no\n",
    "\n",
    "SUV,yellow,domestic,no\n",
    "\n",
    "sports,yellow,imported,no\n",
    "\n",
    "\n",
    "\n",
    "\n",
    "### a) Calculate the following sample probabilities:\n",
    "\n",
    "P(Yes) = 6 / 10 = 0.6\n",
    "\n",
    "P(No) = 4 / 10 = 0.4\n",
    "\n",
    "P(Red|Yes) = 5 / 6 = 0.83\n",
    "\n",
    "P(SUV|Yes) = 2 / 6 = 0.33\n",
    "\n",
    "P(Domestic|Yes) = 3 / 6 = 0.5\n",
    "\n",
    "P(Red|No) = 1 / 4 = 0.25\n",
    "\n",
    "P(SUV|No) = 3 / 4 = 0.75\n",
    "\n",
    "P(Domestic|No) = 2 / 4 = 0.5\n",
    "\n",
    "### b) Using naive Bayes classification, what is the probability that a red, domestic SUV will be stolen?\n",
    "\n",
    "(5/6 x 2/6 x 1/2 x 6/10) / [6/10 x (5/6 + 2/6 + 1/2)] = 0.083"
   ]
  },
  {
   "cell_type": "code",
   "execution_count": 389,
   "metadata": {},
   "outputs": [
    {
     "data": {
      "text/plain": [
       "0.08333333333333333"
      ]
     },
     "execution_count": 389,
     "metadata": {},
     "output_type": "execute_result"
    }
   ],
   "source": [
    "# Validation\n",
    "\n",
    "nom = 6/10*(5/6 * 2/6 * 1/2)\n",
    "denom = 6/10*(5/6 + 2/6 + 1/2)\n",
    "nom/denom"
   ]
  },
  {
   "cell_type": "markdown",
   "metadata": {},
   "source": [
    "## Task 4 (4+2+2+2=10pts)\n",
    "\n",
    "Consider the following problem involving Gaussian Naive Bayes classification.  We use eight factors to predict if people have diabetes or not. The variables are:\n",
    "\n",
    "y: The label (0 - no diabetes, 1 - diabetes)\n",
    "\n",
    "t_pre: Number of times pregnant\n",
    "\n",
    "glu: Plasma glucose concentration a 2 hours in an oral glucose tolerance test\n",
    "\n",
    "blood_p: Diastolic blood pressure (mm Hg)\n",
    "\n",
    "triceps: Triceps skin fold thickness (mm)\n",
    "\n",
    "serum: 2-Hour serum insulin (mu U/ml)\n",
    "\n",
    "b_m: Body mass index (weight in kg/(height in m)^2)\n",
    "\n",
    "pedigree_f: Diabetes pedigree function\n",
    "\n",
    "age: Age (years)\n",
    "\n",
    "### Using the data provided below, learn a Naive Bayes classifier from the training data and answer the following questions: "
   ]
  },
  {
   "cell_type": "code",
   "execution_count": 390,
   "metadata": {},
   "outputs": [
    {
     "name": "stdout",
     "output_type": "stream",
     "text": [
      "   t_pre    glu  blood_p  triceps  serum   b_m  pedigree_f   age\n",
      "0    3.0  158.0     64.0     13.0  387.0  31.2       0.295  24.0\n",
      "1    0.0   84.0     64.0     22.0   66.0  35.8       0.545  21.0\n",
      "2    9.0  120.0     72.0     22.0   56.0  20.8       0.733  48.0\n",
      "3    4.0  110.0     76.0     20.0  100.0  28.4       0.118  27.0\n",
      "4    2.0  100.0     66.0     20.0   90.0  32.9       0.867  28.0\n"
     ]
    }
   ],
   "source": [
    "# Training data\n",
    "data_train=pd.read_csv(\"HW2_task4_train.csv\") \n",
    "y_train=data_train.iloc[:,1] \n",
    "X_train=data_train.iloc[:,2:] \n",
    "\n",
    "# Testing data\n",
    "data_test=pd.read_csv(\"HW2_task4_test.csv\")\n",
    "y_test=data_test.iloc[:,1]\n",
    "X_test=data_test.iloc[:,2:]\n",
    "\n",
    "print(X_train.head())"
   ]
  },
  {
   "cell_type": "code",
   "execution_count": 391,
   "metadata": {},
   "outputs": [
    {
     "data": {
      "text/plain": [
       "236"
      ]
     },
     "execution_count": 391,
     "metadata": {},
     "output_type": "execute_result"
    }
   ],
   "source": [
    "len(X_train)"
   ]
  },
  {
   "cell_type": "markdown",
   "metadata": {},
   "source": [
    "### a) What is the prediction accuracy for Naive Bayes, both in sample (on the training data) and out of sample (on the test data)?"
   ]
  },
  {
   "cell_type": "code",
   "execution_count": 392,
   "metadata": {},
   "outputs": [
    {
     "name": "stdout",
     "output_type": "stream",
     "text": [
      "In Sample Accuracy: 0.7584745762711864\n",
      "Out of Sample Accuracy: 0.7911392405063291\n"
     ]
    }
   ],
   "source": [
    "# Train a Naive Bayes Classifier and measure accuracies\n",
    "\n",
    "from sklearn.naive_bayes import GaussianNB\n",
    "\n",
    "clf = GaussianNB()\n",
    "y_pred = clf.fit(X_train, y_train).predict(X_train)\n",
    "print(\"In Sample Accuracy: {}\".format(accuracy_score(y_train, y_pred)))\n",
    "\n",
    "y_pred = clf.fit(X_train, y_train).predict(X_test)\n",
    "print(\"Out of Sample Accuracy: {}\".format(accuracy_score(y_test, y_pred)))"
   ]
  },
  {
   "cell_type": "markdown",
   "metadata": {},
   "source": [
    "### b) What is the prior probability of diabetes, learned from the training data?"
   ]
  },
  {
   "cell_type": "code",
   "execution_count": 393,
   "metadata": {},
   "outputs": [
    {
     "data": {
      "text/plain": [
       "0.3008474576271186"
      ]
     },
     "execution_count": 393,
     "metadata": {},
     "output_type": "execute_result"
    }
   ],
   "source": [
    "np.count_nonzero(y_train == 1.0) / len(y_train)"
   ]
  },
  {
   "cell_type": "markdown",
   "metadata": {},
   "source": [
    "### c) What is the mean and variance of each input variable for patients with diabetes?"
   ]
  },
  {
   "cell_type": "code",
   "execution_count": 394,
   "metadata": {},
   "outputs": [
    {
     "name": "stdout",
     "output_type": "stream",
     "text": [
      "t_pre | mean: 4.070422535211268 | var: 12.380684104627761\n",
      "glu | mean: 144.14084507042253 | var: 937.9798792756535\n",
      "blood_p | mean: 74.56338028169014 | var: 190.42092555331996\n",
      "triceps | mean: 33.478873239436616 | var: 95.31026156941651\n",
      "serum | mean: 209.2112676056338 | var: 16108.94044265593\n",
      "b_m | mean: 35.22394366197182 | var: 39.168704225352116\n",
      "pedigree_f | mean: 0.6390422535211271 | var: 0.19275789818913477\n",
      "age | mean: 35.7887323943662 | var: 105.3404426559356\n"
     ]
    }
   ],
   "source": [
    "def CalMeanVar(df):\n",
    "    '''\n",
    "    This function calculates mean and variance of all features (excluding target and \n",
    "    dummy columns)\n",
    "    Input: data frame\n",
    "    Output: None\n",
    "    \n",
    "    '''\n",
    "    \n",
    "    for i in range(2, len(df.columns)):\n",
    "        print(\"{} | mean: {} | var: {}\".format(df.columns[i], \n",
    "                                               df.iloc[:, i].mean(), \n",
    "                                               df.iloc[:, i].var()))\n",
    "    return\n",
    "\n",
    "CalMeanVar(data_train[data_train.y == 1.0])"
   ]
  },
  {
   "cell_type": "markdown",
   "metadata": {},
   "source": [
    "### d) What is the mean and variance of each input variable for patients without diabetes?"
   ]
  },
  {
   "cell_type": "code",
   "execution_count": 395,
   "metadata": {},
   "outputs": [
    {
     "name": "stdout",
     "output_type": "stream",
     "text": [
      "t_pre | mean: 2.690909090909091 | var: 6.812416851441231\n",
      "glu | mean: 111.46666666666667 | var: 609.6894308943092\n",
      "blood_p | mean: 69.2060606060606 | var: 137.20118255728022\n",
      "triceps | mean: 27.2 | var: 108.92926829268296\n",
      "serum | mean: 127.0060606060606 | var: 8369.713377679238\n",
      "b_m | mean: 31.709090909090893 | var: 40.165343680709526\n",
      "pedigree_f | mean: 0.46868484848484815 | var: 0.08511825373244639\n",
      "age | mean: 28.393939393939394 | var: 72.88654841093859\n"
     ]
    }
   ],
   "source": [
    "CalMeanVar(data_train[data_train.y == 0.0])"
   ]
  },
  {
   "cell_type": "markdown",
   "metadata": {},
   "source": [
    "## Task 5 (10+15=25 pts)\n",
    "\n",
    "We have an artificial data set split, where the training set contains both labeled and unlabeled data. Column 'y' is the label, and columns '0','1','2' are categorical variables."
   ]
  },
  {
   "cell_type": "code",
   "execution_count": 396,
   "metadata": {},
   "outputs": [],
   "source": [
    "data_train=pd.read_csv(\"HW2_task5_train.csv\")\n",
    "y_Labeled_train=data_train.iloc[:,1] \n",
    "X_Labeled_train=data_train.iloc[:,2:] \n",
    "\n",
    "data_test=pd.read_csv(\"HW2_task5_test.csv\")\n",
    "y_Labeled_test=data_test.iloc[:,1]\n",
    "X_Labeled_test=data_test.iloc[:,2:]\n",
    "\n",
    "data_Unlabeled=pd.read_csv(\"HW2_task5_unlabeled.csv\")\n",
    "X_Unlabeled_train=data_Unlabeled.iloc[:,1:]"
   ]
  },
  {
   "cell_type": "markdown",
   "metadata": {},
   "source": [
    "### a) Learn a discrete Naive Bayes classifier from  X_Labeled_train, use it to predict the labels of X_Labeled_test, and report the classification accuracy."
   ]
  },
  {
   "cell_type": "code",
   "execution_count": 397,
   "metadata": {},
   "outputs": [
    {
     "name": "stdout",
     "output_type": "stream",
     "text": [
      "Out of Sample Accuracy: 0.9722222222222222\n"
     ]
    }
   ],
   "source": [
    "# Train a Gaussian Naive Bayes Model\n",
    "\n",
    "clf = GaussianNB()\n",
    "\n",
    "y_pred = clf.fit(X_Labeled_train, y_Labeled_train).predict(X_Labeled_test)\n",
    "print(\"Out of Sample Accuracy: {}\".format(accuracy_score(y_Labeled_test, y_pred)))"
   ]
  },
  {
   "cell_type": "code",
   "execution_count": 468,
   "metadata": {},
   "outputs": [
    {
     "name": "stdout",
     "output_type": "stream",
     "text": [
      "Mean Accuracy from CV: 0.8333333333333334\n"
     ]
    }
   ],
   "source": [
    "# Run CV for benchmarking \n",
    "from sklearn.model_selection import cross_val_score\n",
    "\n",
    "scores = cross_val_score(clf, X_Labeled_train, y_Labeled_train, cv=3, \n",
    "                         scoring = 'accuracy')\n",
    "\n",
    "print(\"Mean Accuracy from CV: {}\".format(scores.mean()))"
   ]
  },
  {
   "cell_type": "markdown",
   "metadata": {},
   "source": [
    "### b) Improve the classification by using the unlabeled data, data_Unlabeled, and the EM semi-supervised algorithm to predict the labels of X_Labeled_test, and report the new accuracy."
   ]
  },
  {
   "cell_type": "code",
   "execution_count": 481,
   "metadata": {},
   "outputs": [],
   "source": [
    "class PseudoLabeler():\n",
    "    \n",
    "    '''\n",
    "    This is a class object of a Semi-Supervised Learning solution with \n",
    "    the following methods:\n",
    "    \n",
    "    1) fit: this method fits a model based on mixed dataset (labeled + unlabeld data) by \n",
    "         using the specified modeling technique (e.g. GaussianNB, XGB, RandomForest)\n",
    "    2) create_augmented_train: this method creates an augmented dataset by labeling \n",
    "                               the unlabeled data, sampling it, and mixing it the labeled data\n",
    "    3) predict: this method predicts using the validation dataset\n",
    "    4) aug_CV: this method performs a cross validation using augmented dataset\n",
    "    \n",
    "    '''\n",
    "    \n",
    "    def __init__(self, model, unlabeled_data, labeled_X, labeled_y,\n",
    "                sample_rate, seed = 123):\n",
    "        \n",
    "        '''\n",
    "        This initializes the class with a modelling technique, unlabeled dataset, \n",
    "        labeled features, labeled target, and sampling rate (% of unlaebled data to use)\n",
    "        '''\n",
    "        \n",
    "        \n",
    "        from sklearn.utils import shuffle\n",
    "        from sklearn.model_selection import cross_val_score\n",
    "        \n",
    "        self.sample_rate = sample_rate\n",
    "        self.seed = seed\n",
    "        self.model = model\n",
    "        self.model.seed = seed\n",
    "        self.unlabeled_data = pd.DataFrame(unlabeled_data)\n",
    "        self.labeled_X = pd.DataFrame(labeled_X)\n",
    "        self.labeled_y = pd.DataFrame(labeled_y)\n",
    "        self.cv_scores = []\n",
    "        \n",
    "    def fit(self, X, y):\n",
    "        '''\n",
    "        Fit the data using pseudo labeling\n",
    "        '''\n",
    "        augmented_y, augmented_X = self.create_augmented_train()\n",
    "        self.cv_scores = self.aug_CV(augmented_X, augmented_y)\n",
    "                \n",
    "        self.model.fit(augmented_X, \n",
    "                       augmented_y)\n",
    "        return self\n",
    "        \n",
    "    def create_augmented_train(self):\n",
    "        \n",
    "        '''\n",
    "        Create and return augmented train and test sets that consist of \n",
    "        pseudo-labeled and labeled data\n",
    "        '''\n",
    "        \n",
    "        num_of_samples = int(len(self.unlabeled_data)*self.sample_rate)\n",
    "        \n",
    "        # Train a model and create pseudo labels\n",
    "        self.model.fit(self.labeled_X, self.labeled_y)\n",
    "        pseudo_labels = pd.DataFrame(self.model.predict(self.unlabeled_data), \n",
    "                                     columns = ['y'])\n",
    "        \n",
    "        # Add pseudo labels to the test data\n",
    "        pseudo_data = pd.concat([pseudo_labels, self.unlabeled_data], axis = 1)\n",
    "        \n",
    "        # Take a subset of the pseudo test set based on sample rate\n",
    "        sampled_pseudo_data = pseudo_data.sample(n = num_of_samples, \n",
    "                                                 random_state = self.seed)\n",
    "        temp_train = pd.concat([self.labeled_y, self.labeled_X], axis = 1)\n",
    "        \n",
    "        # Mix and shuffle the labeled and unlabeled data\n",
    "        augmented_train = pd.concat([sampled_pseudo_data, temp_train])\n",
    "        augmented_train = shuffle(augmented_train, random_state = self.seed)\n",
    "        \n",
    "        print(\"Sample Size: {}\".format(augmented_train.shape[0]))\n",
    "        \n",
    "        augmented_y = augmented_train.iloc[:, 0]\n",
    "        augmented_X = augmented_train.iloc[:, 1:]\n",
    "                \n",
    "        return augmented_y, augmented_X\n",
    "    \n",
    "    def predict(self, X):\n",
    "\n",
    "        return self.model.predict(X)\n",
    "    \n",
    "    def aug_CV(self, augmented_X, augmented_y):\n",
    "        from sklearn.model_selection import KFold\n",
    "        kf = KFold(n_splits=3, random_state= 123)\n",
    "        scores = cross_val_score(self.model, augmented_X, augmented_y, cv=kf, \n",
    "                                 scoring = 'accuracy')\n",
    "        \n",
    "        print(\"Mean Accuracy in CV: {}\".format(scores.mean()))\n",
    "        \n",
    "        return scores\n",
    "    \n",
    "    \n",
    "# Code Reference: https://www.analyticsvidhya.com/blog/2017/09/\n",
    "# pseudo-labelling-semi-supervised-learning-technique/\n",
    "# The code was modified and re-purposed for the purpose of this exercise"
   ]
  },
  {
   "cell_type": "code",
   "execution_count": 487,
   "metadata": {},
   "outputs": [],
   "source": [
    "test = pd.DataFrame(y_Labeled_train)\n",
    "test2 = pd.DataFrame(X_Labeled_train)\n",
    "test3 = pd.concat([y_Labeled_train, X_Labeled_train])"
   ]
  },
  {
   "cell_type": "code",
   "execution_count": 493,
   "metadata": {
    "scrolled": false
   },
   "outputs": [
    {
     "name": "stdout",
     "output_type": "stream",
     "text": [
      "Sample Size: 19\n",
      "Mean Accuracy in CV: 0.9523809523809524\n",
      "Unlabeled Data Sample rate: 0.1 | Out of Sample Accuracy: 1.0\n",
      "---\n",
      "Sample Size: 37\n",
      "Mean Accuracy in CV: 0.9465811965811967\n",
      "Unlabeled Data Sample rate: 0.275 | Out of Sample Accuracy: 0.9722222222222222\n",
      "---\n",
      "Sample Size: 56\n",
      "Mean Accuracy in CV: 0.94541910331384\n",
      "Unlabeled Data Sample rate: 0.45000000000000007 | Out of Sample Accuracy: 0.9722222222222222\n",
      "---\n",
      "Sample Size: 74\n",
      "Mean Accuracy in CV: 0.9461111111111111\n",
      "Unlabeled Data Sample rate: 0.625 | Out of Sample Accuracy: 0.9722222222222222\n",
      "---\n",
      "Sample Size: 93\n",
      "Mean Accuracy in CV: 0.967741935483871\n",
      "Unlabeled Data Sample rate: 0.8 | Out of Sample Accuracy: 0.9722222222222222\n",
      "---\n"
     ]
    }
   ],
   "source": [
    "# Analyze performance given a range of sample rate\n",
    "# Sample Rate = % of sampling portion from the unlabeled dataset\n",
    "\n",
    "for rate in np.linspace(0.1, 0.8, 5):\n",
    "    \n",
    "    EM = PseudoLabeler(GaussianNB(),\n",
    "                        X_Unlabeled_train,\n",
    "                        X_Labeled_train,\n",
    "                        y_Labeled_train,\n",
    "                        sample_rate=rate)\n",
    "    \n",
    "    EM.fit(X_Labeled_train, y_Labeled_train)\n",
    "    em_pred = EM.predict(X_Labeled_test)\n",
    "    score = accuracy_score(y_Labeled_test, em_pred)\n",
    "    print(\"Unlabeled Data Sample rate: {} | Out of Sample Accuracy: {}\".format(rate, score))\n",
    "    print(\"---\")"
   ]
  },
  {
   "cell_type": "markdown",
   "metadata": {},
   "source": [
    "### Note\n",
    "\n",
    "Due to the limited amount of training and validation (both labeled and unlabeld), I think it's important to analyze both CV and Out of Sample accuracy. By analyzing the results, it demonstrated the benefits of semi-supervised learning because:\n",
    "\n",
    "1) The out of sample accuracy from all sampling rate are equal or greater than 0.9722. However, one of the case provided 100% accuracy. This might due to overfitting.\n",
    "\n",
    "2) Simple NBC achieved an average CV accuracy of 0.83. Semi-Supervised Learning provided greater average CV accuracy, which ranges from 0.95 - 0.97."
   ]
  }
 ],
 "metadata": {
  "kernelspec": {
   "display_name": "Python 3",
   "language": "python",
   "name": "python3"
  },
  "language_info": {
   "codemirror_mode": {
    "name": "ipython",
    "version": 3
   },
   "file_extension": ".py",
   "mimetype": "text/x-python",
   "name": "python",
   "nbconvert_exporter": "python",
   "pygments_lexer": "ipython3",
   "version": "3.6.4"
  }
 },
 "nbformat": 4,
 "nbformat_minor": 1
}
